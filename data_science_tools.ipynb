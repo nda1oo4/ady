# Data Science Tools and Ecosystem
## Introduction  
This notebook provides an overview of Data Science tools, libraries, and languages.  
## Data Science Languages  
- Python  
- R  
- SQL  
- Julia  
- Scala  
## Data Science Libraries  
- Pandas  
- NumPy  
- Matplotlib  
- Scikit-learn  
- TensorFlow  
- Keras  
## Data Science Tools  
| Tool          | Purpose |
|--------------|---------|
| Jupyter Notebook | Interactive computing |
| RStudio       | R programming |
| Apache Spark  | Big Data processing |
| TensorFlow    | Deep Learning |
| Power BI      | Data Visualization |
## Arithmetic Expressions Examples  
Arithmetic operations like addition, subtraction, multiplication, and division are commonly used in data science. Below is an example of a simple calculation.  
# Multiplication and Addition
result = (5 * 10) + 20
result
# Convert minutes to hours
minutes = 120
hours = minutes / 60
hours
## Objectives  
- List common Data Science languages  
- List popular Data Science libraries  
- Introduce basic arithmetic operations  
- Demonstrate simple Python calculations  
## Author  
Nguyen Duc Anh  
